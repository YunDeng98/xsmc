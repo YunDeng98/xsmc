{
 "cells": [
  {
   "cell_type": "code",
   "execution_count": 1,
   "metadata": {},
   "outputs": [],
   "source": [
    "import msprime as msp\n",
    "import fpop\n",
    "import importlib; importlib.reload(fpop)\n",
    "import numpy as np\n",
    "from IPython.display import SVG"
   ]
  },
  {
   "cell_type": "code",
   "execution_count": 16,
   "metadata": {},
   "outputs": [],
   "source": [
    "sim = msp.simulate(sample_size=20, length=1000000, mutation_rate=1e-4, \n",
    "                   recombination_rate=1e-5, Ne=1, random_seed=1111)"
   ]
  },
  {
   "cell_type": "markdown",
   "metadata": {},
   "source": [
    "## Ground truth:"
   ]
  },
  {
   "cell_type": "code",
   "execution_count": 17,
   "metadata": {},
   "outputs": [
    {
     "ename": "KeyboardInterrupt",
     "evalue": "",
     "output_type": "error",
     "traceback": [
      "\u001b[0;31m---------------------------------------------------------------------------\u001b[0m",
      "\u001b[0;31mKeyboardInterrupt\u001b[0m                         Traceback (most recent call last)",
      "\u001b[0;32m<ipython-input-17-78e1e26d5d54>\u001b[0m in \u001b[0;36m<module>\u001b[0;34m()\u001b[0m\n\u001b[0;32m----> 1\u001b[0;31m \u001b[0mSVG\u001b[0m\u001b[0;34m(\u001b[0m\u001b[0msim\u001b[0m\u001b[0;34m.\u001b[0m\u001b[0mdraw_svg\u001b[0m\u001b[0;34m(\u001b[0m\u001b[0;34m)\u001b[0m\u001b[0;34m)\u001b[0m\u001b[0;34m\u001b[0m\u001b[0;34m\u001b[0m\u001b[0m\n\u001b[0m",
      "\u001b[0;32m~/opt/py37/lib/python3.7/site-packages/tskit/trees.py\u001b[0m in \u001b[0;36mdraw_svg\u001b[0;34m(self, path, **kwargs)\u001b[0m\n\u001b[1;32m   3477\u001b[0m         \u001b[0;31m# returned SVG object.\u001b[0m\u001b[0;34m\u001b[0m\u001b[0;34m\u001b[0m\u001b[0;34m\u001b[0m\u001b[0m\n\u001b[1;32m   3478\u001b[0m         \u001b[0mdraw\u001b[0m \u001b[0;34m=\u001b[0m \u001b[0mdrawing\u001b[0m\u001b[0;34m.\u001b[0m\u001b[0mSvgTreeSequence\u001b[0m\u001b[0;34m(\u001b[0m\u001b[0mself\u001b[0m\u001b[0;34m,\u001b[0m \u001b[0;34m**\u001b[0m\u001b[0mkwargs\u001b[0m\u001b[0;34m)\u001b[0m\u001b[0;34m\u001b[0m\u001b[0;34m\u001b[0m\u001b[0m\n\u001b[0;32m-> 3479\u001b[0;31m         \u001b[0moutput\u001b[0m \u001b[0;34m=\u001b[0m \u001b[0mdraw\u001b[0m\u001b[0;34m.\u001b[0m\u001b[0mdrawing\u001b[0m\u001b[0;34m.\u001b[0m\u001b[0mtostring\u001b[0m\u001b[0;34m(\u001b[0m\u001b[0;34m)\u001b[0m\u001b[0;34m\u001b[0m\u001b[0;34m\u001b[0m\u001b[0m\n\u001b[0m\u001b[1;32m   3480\u001b[0m         \u001b[0;32mif\u001b[0m \u001b[0mpath\u001b[0m \u001b[0;32mis\u001b[0m \u001b[0;32mnot\u001b[0m \u001b[0;32mNone\u001b[0m\u001b[0;34m:\u001b[0m\u001b[0;34m\u001b[0m\u001b[0;34m\u001b[0m\u001b[0m\n\u001b[1;32m   3481\u001b[0m             \u001b[0;31m# TODO remove the 'pretty' when we are done debugging this.\u001b[0m\u001b[0;34m\u001b[0m\u001b[0;34m\u001b[0m\u001b[0;34m\u001b[0m\u001b[0m\n",
      "\u001b[0;32m~/opt/py37/lib/python3.7/site-packages/svgwrite/base.py\u001b[0m in \u001b[0;36mtostring\u001b[0;34m(self)\u001b[0m\n\u001b[1;32m    181\u001b[0m \u001b[0;34m\u001b[0m\u001b[0m\n\u001b[1;32m    182\u001b[0m         \"\"\"\n\u001b[0;32m--> 183\u001b[0;31m         \u001b[0mxml\u001b[0m \u001b[0;34m=\u001b[0m \u001b[0mself\u001b[0m\u001b[0;34m.\u001b[0m\u001b[0mget_xml\u001b[0m\u001b[0;34m(\u001b[0m\u001b[0;34m)\u001b[0m\u001b[0;34m\u001b[0m\u001b[0;34m\u001b[0m\u001b[0m\n\u001b[0m\u001b[1;32m    184\u001b[0m         \u001b[0mxml_utf8_str\u001b[0m \u001b[0;34m=\u001b[0m \u001b[0metree\u001b[0m\u001b[0;34m.\u001b[0m\u001b[0mtostring\u001b[0m\u001b[0;34m(\u001b[0m\u001b[0mxml\u001b[0m\u001b[0;34m,\u001b[0m \u001b[0mencoding\u001b[0m\u001b[0;34m=\u001b[0m\u001b[0;34m'utf-8'\u001b[0m\u001b[0;34m)\u001b[0m\u001b[0;34m\u001b[0m\u001b[0;34m\u001b[0m\u001b[0m\n\u001b[1;32m    185\u001b[0m         \u001b[0;32mreturn\u001b[0m \u001b[0mxml_utf8_str\u001b[0m\u001b[0;34m.\u001b[0m\u001b[0mdecode\u001b[0m\u001b[0;34m(\u001b[0m\u001b[0;34m'utf-8'\u001b[0m\u001b[0;34m)\u001b[0m\u001b[0;34m\u001b[0m\u001b[0;34m\u001b[0m\u001b[0m\n",
      "\u001b[0;32m~/opt/py37/lib/python3.7/site-packages/svgwrite/drawing.py\u001b[0m in \u001b[0;36mget_xml\u001b[0;34m(self)\u001b[0m\n\u001b[1;32m     72\u001b[0m         \u001b[0mself\u001b[0m\u001b[0;34m.\u001b[0m\u001b[0mattribs\u001b[0m\u001b[0;34m[\u001b[0m\u001b[0;34m'baseProfile'\u001b[0m\u001b[0;34m]\u001b[0m \u001b[0;34m=\u001b[0m \u001b[0mprofile\u001b[0m\u001b[0;34m\u001b[0m\u001b[0;34m\u001b[0m\u001b[0m\n\u001b[1;32m     73\u001b[0m         \u001b[0mself\u001b[0m\u001b[0;34m.\u001b[0m\u001b[0mattribs\u001b[0m\u001b[0;34m[\u001b[0m\u001b[0;34m'version'\u001b[0m\u001b[0;34m]\u001b[0m \u001b[0;34m=\u001b[0m \u001b[0mversion\u001b[0m\u001b[0;34m\u001b[0m\u001b[0;34m\u001b[0m\u001b[0m\n\u001b[0;32m---> 74\u001b[0;31m         \u001b[0;32mreturn\u001b[0m \u001b[0msuper\u001b[0m\u001b[0;34m(\u001b[0m\u001b[0mDrawing\u001b[0m\u001b[0;34m,\u001b[0m \u001b[0mself\u001b[0m\u001b[0;34m)\u001b[0m\u001b[0;34m.\u001b[0m\u001b[0mget_xml\u001b[0m\u001b[0;34m(\u001b[0m\u001b[0;34m)\u001b[0m\u001b[0;34m\u001b[0m\u001b[0;34m\u001b[0m\u001b[0m\n\u001b[0m\u001b[1;32m     75\u001b[0m \u001b[0;34m\u001b[0m\u001b[0m\n\u001b[1;32m     76\u001b[0m     \u001b[0;32mdef\u001b[0m \u001b[0madd_stylesheet\u001b[0m\u001b[0;34m(\u001b[0m\u001b[0mself\u001b[0m\u001b[0;34m,\u001b[0m \u001b[0mhref\u001b[0m\u001b[0;34m,\u001b[0m \u001b[0mtitle\u001b[0m\u001b[0;34m,\u001b[0m \u001b[0malternate\u001b[0m\u001b[0;34m=\u001b[0m\u001b[0;34m\"no\"\u001b[0m\u001b[0;34m,\u001b[0m \u001b[0mmedia\u001b[0m\u001b[0;34m=\u001b[0m\u001b[0;34m\"screen\"\u001b[0m\u001b[0;34m)\u001b[0m\u001b[0;34m:\u001b[0m\u001b[0;34m\u001b[0m\u001b[0;34m\u001b[0m\u001b[0m\n",
      "\u001b[0;32m~/opt/py37/lib/python3.7/site-packages/svgwrite/base.py\u001b[0m in \u001b[0;36mget_xml\u001b[0;34m(self)\u001b[0m\n\u001b[1;32m    202\u001b[0m \u001b[0;34m\u001b[0m\u001b[0m\n\u001b[1;32m    203\u001b[0m         \u001b[0;32mfor\u001b[0m \u001b[0melement\u001b[0m \u001b[0;32min\u001b[0m \u001b[0mself\u001b[0m\u001b[0;34m.\u001b[0m\u001b[0melements\u001b[0m\u001b[0;34m:\u001b[0m\u001b[0;34m\u001b[0m\u001b[0;34m\u001b[0m\u001b[0m\n\u001b[0;32m--> 204\u001b[0;31m             \u001b[0mxml\u001b[0m\u001b[0;34m.\u001b[0m\u001b[0mappend\u001b[0m\u001b[0;34m(\u001b[0m\u001b[0melement\u001b[0m\u001b[0;34m.\u001b[0m\u001b[0mget_xml\u001b[0m\u001b[0;34m(\u001b[0m\u001b[0;34m)\u001b[0m\u001b[0;34m)\u001b[0m\u001b[0;34m\u001b[0m\u001b[0;34m\u001b[0m\u001b[0m\n\u001b[0m\u001b[1;32m    205\u001b[0m         \u001b[0;32mreturn\u001b[0m \u001b[0mxml\u001b[0m\u001b[0;34m\u001b[0m\u001b[0;34m\u001b[0m\u001b[0m\n\u001b[1;32m    206\u001b[0m \u001b[0;34m\u001b[0m\u001b[0m\n",
      "\u001b[0;32m~/opt/py37/lib/python3.7/site-packages/svgwrite/base.py\u001b[0m in \u001b[0;36mget_xml\u001b[0;34m(self)\u001b[0m\n\u001b[1;32m    202\u001b[0m \u001b[0;34m\u001b[0m\u001b[0m\n\u001b[1;32m    203\u001b[0m         \u001b[0;32mfor\u001b[0m \u001b[0melement\u001b[0m \u001b[0;32min\u001b[0m \u001b[0mself\u001b[0m\u001b[0;34m.\u001b[0m\u001b[0melements\u001b[0m\u001b[0;34m:\u001b[0m\u001b[0;34m\u001b[0m\u001b[0;34m\u001b[0m\u001b[0m\n\u001b[0;32m--> 204\u001b[0;31m             \u001b[0mxml\u001b[0m\u001b[0;34m.\u001b[0m\u001b[0mappend\u001b[0m\u001b[0;34m(\u001b[0m\u001b[0melement\u001b[0m\u001b[0;34m.\u001b[0m\u001b[0mget_xml\u001b[0m\u001b[0;34m(\u001b[0m\u001b[0;34m)\u001b[0m\u001b[0;34m)\u001b[0m\u001b[0;34m\u001b[0m\u001b[0;34m\u001b[0m\u001b[0m\n\u001b[0m\u001b[1;32m    205\u001b[0m         \u001b[0;32mreturn\u001b[0m \u001b[0mxml\u001b[0m\u001b[0;34m\u001b[0m\u001b[0;34m\u001b[0m\u001b[0m\n\u001b[1;32m    206\u001b[0m \u001b[0;34m\u001b[0m\u001b[0m\n",
      "\u001b[0;32m~/opt/py37/lib/python3.7/site-packages/svgwrite/base.py\u001b[0m in \u001b[0;36mget_xml\u001b[0;34m(self)\u001b[0m\n\u001b[1;32m    202\u001b[0m \u001b[0;34m\u001b[0m\u001b[0m\n\u001b[1;32m    203\u001b[0m         \u001b[0;32mfor\u001b[0m \u001b[0melement\u001b[0m \u001b[0;32min\u001b[0m \u001b[0mself\u001b[0m\u001b[0;34m.\u001b[0m\u001b[0melements\u001b[0m\u001b[0;34m:\u001b[0m\u001b[0;34m\u001b[0m\u001b[0;34m\u001b[0m\u001b[0m\n\u001b[0;32m--> 204\u001b[0;31m             \u001b[0mxml\u001b[0m\u001b[0;34m.\u001b[0m\u001b[0mappend\u001b[0m\u001b[0;34m(\u001b[0m\u001b[0melement\u001b[0m\u001b[0;34m.\u001b[0m\u001b[0mget_xml\u001b[0m\u001b[0;34m(\u001b[0m\u001b[0;34m)\u001b[0m\u001b[0;34m)\u001b[0m\u001b[0;34m\u001b[0m\u001b[0;34m\u001b[0m\u001b[0m\n\u001b[0m\u001b[1;32m    205\u001b[0m         \u001b[0;32mreturn\u001b[0m \u001b[0mxml\u001b[0m\u001b[0;34m\u001b[0m\u001b[0;34m\u001b[0m\u001b[0m\n\u001b[1;32m    206\u001b[0m \u001b[0;34m\u001b[0m\u001b[0m\n",
      "\u001b[0;32m~/opt/py37/lib/python3.7/site-packages/svgwrite/base.py\u001b[0m in \u001b[0;36mget_xml\u001b[0;34m(self)\u001b[0m\n\u001b[1;32m    202\u001b[0m \u001b[0;34m\u001b[0m\u001b[0m\n\u001b[1;32m    203\u001b[0m         \u001b[0;32mfor\u001b[0m \u001b[0melement\u001b[0m \u001b[0;32min\u001b[0m \u001b[0mself\u001b[0m\u001b[0;34m.\u001b[0m\u001b[0melements\u001b[0m\u001b[0;34m:\u001b[0m\u001b[0;34m\u001b[0m\u001b[0;34m\u001b[0m\u001b[0m\n\u001b[0;32m--> 204\u001b[0;31m             \u001b[0mxml\u001b[0m\u001b[0;34m.\u001b[0m\u001b[0mappend\u001b[0m\u001b[0;34m(\u001b[0m\u001b[0melement\u001b[0m\u001b[0;34m.\u001b[0m\u001b[0mget_xml\u001b[0m\u001b[0;34m(\u001b[0m\u001b[0;34m)\u001b[0m\u001b[0;34m)\u001b[0m\u001b[0;34m\u001b[0m\u001b[0;34m\u001b[0m\u001b[0m\n\u001b[0m\u001b[1;32m    205\u001b[0m         \u001b[0;32mreturn\u001b[0m \u001b[0mxml\u001b[0m\u001b[0;34m\u001b[0m\u001b[0;34m\u001b[0m\u001b[0m\n\u001b[1;32m    206\u001b[0m \u001b[0;34m\u001b[0m\u001b[0m\n",
      "\u001b[0;32m~/opt/py37/lib/python3.7/site-packages/svgwrite/path.py\u001b[0m in \u001b[0;36mget_xml\u001b[0;34m(self)\u001b[0m\n\u001b[1;32m     74\u001b[0m         \"\"\"\n\u001b[1;32m     75\u001b[0m         \u001b[0mself\u001b[0m\u001b[0;34m.\u001b[0m\u001b[0mattribs\u001b[0m\u001b[0;34m[\u001b[0m\u001b[0;34m'd'\u001b[0m\u001b[0;34m]\u001b[0m \u001b[0;34m=\u001b[0m \u001b[0mto_unicode\u001b[0m\u001b[0;34m(\u001b[0m\u001b[0mstrlist\u001b[0m\u001b[0;34m(\u001b[0m\u001b[0mself\u001b[0m\u001b[0;34m.\u001b[0m\u001b[0mcommands\u001b[0m\u001b[0;34m,\u001b[0m \u001b[0;34m' '\u001b[0m\u001b[0;34m)\u001b[0m\u001b[0;34m)\u001b[0m\u001b[0;34m\u001b[0m\u001b[0;34m\u001b[0m\u001b[0m\n\u001b[0;32m---> 76\u001b[0;31m         \u001b[0;32mreturn\u001b[0m \u001b[0msuper\u001b[0m\u001b[0;34m(\u001b[0m\u001b[0mPath\u001b[0m\u001b[0;34m,\u001b[0m \u001b[0mself\u001b[0m\u001b[0;34m)\u001b[0m\u001b[0;34m.\u001b[0m\u001b[0mget_xml\u001b[0m\u001b[0;34m(\u001b[0m\u001b[0;34m)\u001b[0m\u001b[0;34m\u001b[0m\u001b[0;34m\u001b[0m\u001b[0m\n\u001b[0m",
      "\u001b[0;32m~/opt/py37/lib/python3.7/site-packages/svgwrite/base.py\u001b[0m in \u001b[0;36mget_xml\u001b[0;34m(self)\u001b[0m\n\u001b[1;32m    193\u001b[0m         \u001b[0mxml\u001b[0m \u001b[0;34m=\u001b[0m \u001b[0metree\u001b[0m\u001b[0;34m.\u001b[0m\u001b[0mElement\u001b[0m\u001b[0;34m(\u001b[0m\u001b[0mself\u001b[0m\u001b[0;34m.\u001b[0m\u001b[0melementname\u001b[0m\u001b[0;34m)\u001b[0m\u001b[0;34m\u001b[0m\u001b[0;34m\u001b[0m\u001b[0m\n\u001b[1;32m    194\u001b[0m         \u001b[0;32mif\u001b[0m \u001b[0mself\u001b[0m\u001b[0;34m.\u001b[0m\u001b[0mdebug\u001b[0m\u001b[0;34m:\u001b[0m\u001b[0;34m\u001b[0m\u001b[0;34m\u001b[0m\u001b[0m\n\u001b[0;32m--> 195\u001b[0;31m             \u001b[0mself\u001b[0m\u001b[0;34m.\u001b[0m\u001b[0mvalidator\u001b[0m\u001b[0;34m.\u001b[0m\u001b[0mcheck_all_svg_attribute_values\u001b[0m\u001b[0;34m(\u001b[0m\u001b[0mself\u001b[0m\u001b[0;34m.\u001b[0m\u001b[0melementname\u001b[0m\u001b[0;34m,\u001b[0m \u001b[0mself\u001b[0m\u001b[0;34m.\u001b[0m\u001b[0mattribs\u001b[0m\u001b[0;34m)\u001b[0m\u001b[0;34m\u001b[0m\u001b[0;34m\u001b[0m\u001b[0m\n\u001b[0m\u001b[1;32m    196\u001b[0m         \u001b[0;32mfor\u001b[0m \u001b[0mattribute\u001b[0m\u001b[0;34m,\u001b[0m \u001b[0mvalue\u001b[0m \u001b[0;32min\u001b[0m \u001b[0mself\u001b[0m\u001b[0;34m.\u001b[0m\u001b[0mattribs\u001b[0m\u001b[0;34m.\u001b[0m\u001b[0mitems\u001b[0m\u001b[0;34m(\u001b[0m\u001b[0;34m)\u001b[0m\u001b[0;34m:\u001b[0m\u001b[0;34m\u001b[0m\u001b[0;34m\u001b[0m\u001b[0m\n\u001b[1;32m    197\u001b[0m             \u001b[0;31m# filter 'None' values\u001b[0m\u001b[0;34m\u001b[0m\u001b[0;34m\u001b[0m\u001b[0;34m\u001b[0m\u001b[0m\n",
      "\u001b[0;32m~/opt/py37/lib/python3.7/site-packages/svgwrite/validator2.py\u001b[0m in \u001b[0;36mcheck_all_svg_attribute_values\u001b[0;34m(self, elementname, attributes)\u001b[0m\n\u001b[1;32m     50\u001b[0m         \"\"\"\n\u001b[1;32m     51\u001b[0m         \u001b[0;32mfor\u001b[0m \u001b[0mattributename\u001b[0m\u001b[0;34m,\u001b[0m \u001b[0mvalue\u001b[0m \u001b[0;32min\u001b[0m \u001b[0mattributes\u001b[0m\u001b[0;34m.\u001b[0m\u001b[0mitems\u001b[0m\u001b[0;34m(\u001b[0m\u001b[0;34m)\u001b[0m\u001b[0;34m:\u001b[0m\u001b[0;34m\u001b[0m\u001b[0;34m\u001b[0m\u001b[0m\n\u001b[0;32m---> 52\u001b[0;31m             \u001b[0mself\u001b[0m\u001b[0;34m.\u001b[0m\u001b[0mcheck_svg_attribute_value\u001b[0m\u001b[0;34m(\u001b[0m\u001b[0melementname\u001b[0m\u001b[0;34m,\u001b[0m \u001b[0mattributename\u001b[0m\u001b[0;34m,\u001b[0m \u001b[0mvalue\u001b[0m\u001b[0;34m)\u001b[0m\u001b[0;34m\u001b[0m\u001b[0;34m\u001b[0m\u001b[0m\n\u001b[0m\u001b[1;32m     53\u001b[0m \u001b[0;34m\u001b[0m\u001b[0m\n\u001b[1;32m     54\u001b[0m     \u001b[0;32mdef\u001b[0m \u001b[0mcheck_svg_attribute_value\u001b[0m\u001b[0;34m(\u001b[0m\u001b[0mself\u001b[0m\u001b[0;34m,\u001b[0m \u001b[0melementname\u001b[0m\u001b[0;34m,\u001b[0m \u001b[0mattributename\u001b[0m\u001b[0;34m,\u001b[0m \u001b[0mvalue\u001b[0m\u001b[0;34m)\u001b[0m\u001b[0;34m:\u001b[0m\u001b[0;34m\u001b[0m\u001b[0;34m\u001b[0m\u001b[0m\n",
      "\u001b[0;32m~/opt/py37/lib/python3.7/site-packages/svgwrite/validator2.py\u001b[0m in \u001b[0;36mcheck_svg_attribute_value\u001b[0;34m(self, elementname, attributename, value)\u001b[0m\n\u001b[1;32m     60\u001b[0m         \"\"\"\n\u001b[1;32m     61\u001b[0m         \u001b[0mself\u001b[0m\u001b[0;34m.\u001b[0m\u001b[0m_check_valid_svg_attribute_name\u001b[0m\u001b[0;34m(\u001b[0m\u001b[0melementname\u001b[0m\u001b[0;34m,\u001b[0m \u001b[0mattributename\u001b[0m\u001b[0;34m)\u001b[0m\u001b[0;34m\u001b[0m\u001b[0;34m\u001b[0m\u001b[0m\n\u001b[0;32m---> 62\u001b[0;31m         \u001b[0mself\u001b[0m\u001b[0;34m.\u001b[0m\u001b[0m_check_svg_value\u001b[0m\u001b[0;34m(\u001b[0m\u001b[0melementname\u001b[0m\u001b[0;34m,\u001b[0m \u001b[0mattributename\u001b[0m\u001b[0;34m,\u001b[0m \u001b[0mvalue\u001b[0m\u001b[0;34m)\u001b[0m\u001b[0;34m\u001b[0m\u001b[0;34m\u001b[0m\u001b[0m\n\u001b[0m\u001b[1;32m     63\u001b[0m \u001b[0;34m\u001b[0m\u001b[0m\n\u001b[1;32m     64\u001b[0m     \u001b[0;32mdef\u001b[0m \u001b[0m_check_svg_value\u001b[0m\u001b[0;34m(\u001b[0m\u001b[0mself\u001b[0m\u001b[0;34m,\u001b[0m \u001b[0melementname\u001b[0m\u001b[0;34m,\u001b[0m \u001b[0mattributename\u001b[0m\u001b[0;34m,\u001b[0m \u001b[0mvalue\u001b[0m\u001b[0;34m)\u001b[0m\u001b[0;34m:\u001b[0m\u001b[0;34m\u001b[0m\u001b[0;34m\u001b[0m\u001b[0m\n",
      "\u001b[0;32m~/opt/py37/lib/python3.7/site-packages/svgwrite/validator2.py\u001b[0m in \u001b[0;36m_check_svg_value\u001b[0;34m(self, elementname, attributename, value)\u001b[0m\n\u001b[1;32m     72\u001b[0m         \u001b[0;31m# check if 'value' match a valid datatype\u001b[0m\u001b[0;34m\u001b[0m\u001b[0;34m\u001b[0m\u001b[0;34m\u001b[0m\u001b[0m\n\u001b[1;32m     73\u001b[0m         \u001b[0;32mfor\u001b[0m \u001b[0mtypename\u001b[0m \u001b[0;32min\u001b[0m \u001b[0mattribute\u001b[0m\u001b[0;34m.\u001b[0m\u001b[0mget_types\u001b[0m\u001b[0;34m(\u001b[0m\u001b[0melementname\u001b[0m\u001b[0;34m)\u001b[0m\u001b[0;34m:\u001b[0m\u001b[0;34m\u001b[0m\u001b[0;34m\u001b[0m\u001b[0m\n\u001b[0;32m---> 74\u001b[0;31m             \u001b[0;32mif\u001b[0m \u001b[0mself\u001b[0m\u001b[0;34m.\u001b[0m\u001b[0mtypechecker\u001b[0m\u001b[0;34m.\u001b[0m\u001b[0mcheck\u001b[0m\u001b[0;34m(\u001b[0m\u001b[0mtypename\u001b[0m\u001b[0;34m,\u001b[0m \u001b[0mvalue\u001b[0m\u001b[0;34m)\u001b[0m\u001b[0;34m:\u001b[0m\u001b[0;34m\u001b[0m\u001b[0;34m\u001b[0m\u001b[0m\n\u001b[0m\u001b[1;32m     75\u001b[0m                 \u001b[0;32mreturn\u001b[0m\u001b[0;34m\u001b[0m\u001b[0;34m\u001b[0m\u001b[0m\n\u001b[1;32m     76\u001b[0m         \u001b[0;31m# check if 'value' is a valid constant\u001b[0m\u001b[0;34m\u001b[0m\u001b[0;34m\u001b[0m\u001b[0;34m\u001b[0m\u001b[0m\n",
      "\u001b[0;32m~/opt/py37/lib/python3.7/site-packages/svgwrite/data/typechecker.py\u001b[0m in \u001b[0;36mcheck\u001b[0;34m(self, typename, value)\u001b[0m\n\u001b[1;32m    310\u001b[0m             \u001b[0mt\u001b[0m \u001b[0;34m=\u001b[0m \u001b[0mtypename\u001b[0m\u001b[0;34m[\u001b[0m\u001b[0;36m8\u001b[0m\u001b[0;34m:\u001b[0m\u001b[0;34m]\u001b[0m\u001b[0;34m\u001b[0m\u001b[0;34m\u001b[0m\u001b[0m\n\u001b[1;32m    311\u001b[0m             \u001b[0;32mreturn\u001b[0m \u001b[0mself\u001b[0m\u001b[0;34m.\u001b[0m\u001b[0mis_list_of_T\u001b[0m\u001b[0;34m(\u001b[0m\u001b[0mvalue\u001b[0m\u001b[0;34m,\u001b[0m \u001b[0mt\u001b[0m\u001b[0;34m)\u001b[0m\u001b[0;34m\u001b[0m\u001b[0;34m\u001b[0m\u001b[0m\n\u001b[0;32m--> 312\u001b[0;31m         \u001b[0;32mreturn\u001b[0m \u001b[0mself\u001b[0m\u001b[0;34m.\u001b[0m\u001b[0mget_func_by_name\u001b[0m\u001b[0;34m(\u001b[0m\u001b[0mtypename\u001b[0m\u001b[0;34m)\u001b[0m\u001b[0;34m(\u001b[0m\u001b[0mvalue\u001b[0m\u001b[0;34m)\u001b[0m\u001b[0;34m\u001b[0m\u001b[0;34m\u001b[0m\u001b[0m\n\u001b[0m\u001b[1;32m    313\u001b[0m \u001b[0;34m\u001b[0m\u001b[0m\n\u001b[1;32m    314\u001b[0m \u001b[0;34m\u001b[0m\u001b[0m\n",
      "\u001b[0;32m~/opt/py37/lib/python3.7/site-packages/svgwrite/data/typechecker.py\u001b[0m in \u001b[0;36mis_path_data\u001b[0;34m(self, value)\u001b[0m\n\u001b[1;32m    263\u001b[0m     \u001b[0;32mdef\u001b[0m \u001b[0mis_path_data\u001b[0m\u001b[0;34m(\u001b[0m\u001b[0mself\u001b[0m\u001b[0;34m,\u001b[0m \u001b[0mvalue\u001b[0m\u001b[0;34m)\u001b[0m\u001b[0;34m:\u001b[0m\u001b[0;34m\u001b[0m\u001b[0;34m\u001b[0m\u001b[0m\n\u001b[1;32m    264\u001b[0m         \u001b[0;32mif\u001b[0m \u001b[0mis_string\u001b[0m\u001b[0;34m(\u001b[0m\u001b[0mvalue\u001b[0m\u001b[0;34m)\u001b[0m\u001b[0;34m:\u001b[0m\u001b[0;34m\u001b[0m\u001b[0;34m\u001b[0m\u001b[0m\n\u001b[0;32m--> 265\u001b[0;31m             \u001b[0;32mreturn\u001b[0m \u001b[0mis_valid_pathdata\u001b[0m\u001b[0;34m(\u001b[0m\u001b[0mvalue\u001b[0m\u001b[0;34m)\u001b[0m\u001b[0;34m\u001b[0m\u001b[0;34m\u001b[0m\u001b[0m\n\u001b[0m\u001b[1;32m    266\u001b[0m         \u001b[0;32melse\u001b[0m\u001b[0;34m:\u001b[0m\u001b[0;34m\u001b[0m\u001b[0;34m\u001b[0m\u001b[0m\n\u001b[1;32m    267\u001b[0m             \u001b[0;32mreturn\u001b[0m \u001b[0;32mFalse\u001b[0m\u001b[0;34m\u001b[0m\u001b[0;34m\u001b[0m\u001b[0m\n",
      "\u001b[0;32m~/opt/py37/lib/python3.7/site-packages/svgwrite/data/svgparser.py\u001b[0m in \u001b[0;36mhas_valid_syntax\u001b[0;34m(term, parser)\u001b[0m\n\u001b[1;32m     37\u001b[0m \u001b[0;32mdef\u001b[0m \u001b[0mhas_valid_syntax\u001b[0m\u001b[0;34m(\u001b[0m\u001b[0mterm\u001b[0m\u001b[0;34m,\u001b[0m \u001b[0mparser\u001b[0m\u001b[0;34m)\u001b[0m\u001b[0;34m:\u001b[0m\u001b[0;34m\u001b[0m\u001b[0;34m\u001b[0m\u001b[0m\n\u001b[1;32m     38\u001b[0m     \u001b[0;32mtry\u001b[0m\u001b[0;34m:\u001b[0m\u001b[0;34m\u001b[0m\u001b[0;34m\u001b[0m\u001b[0m\n\u001b[0;32m---> 39\u001b[0;31m         \u001b[0mparser\u001b[0m\u001b[0;34m.\u001b[0m\u001b[0mparseString\u001b[0m\u001b[0;34m(\u001b[0m\u001b[0mterm\u001b[0m\u001b[0;34m,\u001b[0m \u001b[0mparseAll\u001b[0m\u001b[0;34m=\u001b[0m\u001b[0;32mTrue\u001b[0m\u001b[0;34m)\u001b[0m\u001b[0;34m\u001b[0m\u001b[0;34m\u001b[0m\u001b[0m\n\u001b[0m\u001b[1;32m     40\u001b[0m         \u001b[0;32mreturn\u001b[0m \u001b[0;32mTrue\u001b[0m\u001b[0;34m\u001b[0m\u001b[0;34m\u001b[0m\u001b[0m\n\u001b[1;32m     41\u001b[0m     \u001b[0;32mexcept\u001b[0m \u001b[0mParseException\u001b[0m\u001b[0;34m:\u001b[0m\u001b[0;34m\u001b[0m\u001b[0;34m\u001b[0m\u001b[0m\n",
      "\u001b[0;32m~/opt/py37/lib/python3.7/site-packages/pyparsing.py\u001b[0m in \u001b[0;36mparseString\u001b[0;34m(self, instring, parseAll)\u001b[0m\n\u001b[1;32m   1620\u001b[0m             \u001b[0minstring\u001b[0m \u001b[0;34m=\u001b[0m \u001b[0minstring\u001b[0m\u001b[0;34m.\u001b[0m\u001b[0mexpandtabs\u001b[0m\u001b[0;34m(\u001b[0m\u001b[0;34m)\u001b[0m\u001b[0;34m\u001b[0m\u001b[0;34m\u001b[0m\u001b[0m\n\u001b[1;32m   1621\u001b[0m         \u001b[0;32mtry\u001b[0m\u001b[0;34m:\u001b[0m\u001b[0;34m\u001b[0m\u001b[0;34m\u001b[0m\u001b[0m\n\u001b[0;32m-> 1622\u001b[0;31m             \u001b[0mloc\u001b[0m\u001b[0;34m,\u001b[0m \u001b[0mtokens\u001b[0m \u001b[0;34m=\u001b[0m \u001b[0mself\u001b[0m\u001b[0;34m.\u001b[0m\u001b[0m_parse\u001b[0m\u001b[0;34m(\u001b[0m \u001b[0minstring\u001b[0m\u001b[0;34m,\u001b[0m \u001b[0;36m0\u001b[0m \u001b[0;34m)\u001b[0m\u001b[0;34m\u001b[0m\u001b[0;34m\u001b[0m\u001b[0m\n\u001b[0m\u001b[1;32m   1623\u001b[0m             \u001b[0;32mif\u001b[0m \u001b[0mparseAll\u001b[0m\u001b[0;34m:\u001b[0m\u001b[0;34m\u001b[0m\u001b[0;34m\u001b[0m\u001b[0m\n\u001b[1;32m   1624\u001b[0m                 \u001b[0mloc\u001b[0m \u001b[0;34m=\u001b[0m \u001b[0mself\u001b[0m\u001b[0;34m.\u001b[0m\u001b[0mpreParse\u001b[0m\u001b[0;34m(\u001b[0m \u001b[0minstring\u001b[0m\u001b[0;34m,\u001b[0m \u001b[0mloc\u001b[0m \u001b[0;34m)\u001b[0m\u001b[0;34m\u001b[0m\u001b[0;34m\u001b[0m\u001b[0m\n",
      "\u001b[0;32m~/opt/py37/lib/python3.7/site-packages/pyparsing.py\u001b[0m in \u001b[0;36m_parseNoCache\u001b[0;34m(self, instring, loc, doActions, callPreParse)\u001b[0m\n\u001b[1;32m   1377\u001b[0m             \u001b[0;32mif\u001b[0m \u001b[0mself\u001b[0m\u001b[0;34m.\u001b[0m\u001b[0mmayIndexError\u001b[0m \u001b[0;32mor\u001b[0m \u001b[0mloc\u001b[0m \u001b[0;34m>=\u001b[0m \u001b[0mlen\u001b[0m\u001b[0;34m(\u001b[0m\u001b[0minstring\u001b[0m\u001b[0;34m)\u001b[0m\u001b[0;34m:\u001b[0m\u001b[0;34m\u001b[0m\u001b[0;34m\u001b[0m\u001b[0m\n\u001b[1;32m   1378\u001b[0m                 \u001b[0;32mtry\u001b[0m\u001b[0;34m:\u001b[0m\u001b[0;34m\u001b[0m\u001b[0;34m\u001b[0m\u001b[0m\n\u001b[0;32m-> 1379\u001b[0;31m                     \u001b[0mloc\u001b[0m\u001b[0;34m,\u001b[0m\u001b[0mtokens\u001b[0m \u001b[0;34m=\u001b[0m \u001b[0mself\u001b[0m\u001b[0;34m.\u001b[0m\u001b[0mparseImpl\u001b[0m\u001b[0;34m(\u001b[0m \u001b[0minstring\u001b[0m\u001b[0;34m,\u001b[0m \u001b[0mpreloc\u001b[0m\u001b[0;34m,\u001b[0m \u001b[0mdoActions\u001b[0m \u001b[0;34m)\u001b[0m\u001b[0;34m\u001b[0m\u001b[0;34m\u001b[0m\u001b[0m\n\u001b[0m\u001b[1;32m   1380\u001b[0m                 \u001b[0;32mexcept\u001b[0m \u001b[0mIndexError\u001b[0m\u001b[0;34m:\u001b[0m\u001b[0;34m\u001b[0m\u001b[0;34m\u001b[0m\u001b[0m\n\u001b[1;32m   1381\u001b[0m                     \u001b[0;32mraise\u001b[0m \u001b[0mParseException\u001b[0m\u001b[0;34m(\u001b[0m \u001b[0minstring\u001b[0m\u001b[0;34m,\u001b[0m \u001b[0mlen\u001b[0m\u001b[0;34m(\u001b[0m\u001b[0minstring\u001b[0m\u001b[0;34m)\u001b[0m\u001b[0;34m,\u001b[0m \u001b[0mself\u001b[0m\u001b[0;34m.\u001b[0m\u001b[0merrmsg\u001b[0m\u001b[0;34m,\u001b[0m \u001b[0mself\u001b[0m \u001b[0;34m)\u001b[0m\u001b[0;34m\u001b[0m\u001b[0;34m\u001b[0m\u001b[0m\n",
      "\u001b[0;32m~/opt/py37/lib/python3.7/site-packages/pyparsing.py\u001b[0m in \u001b[0;36mparseImpl\u001b[0;34m(self, instring, loc, doActions)\u001b[0m\n\u001b[1;32m   3846\u001b[0m         \u001b[0;32mif\u001b[0m \u001b[0mcheck_ender\u001b[0m\u001b[0;34m:\u001b[0m\u001b[0;34m\u001b[0m\u001b[0;34m\u001b[0m\u001b[0m\n\u001b[1;32m   3847\u001b[0m             \u001b[0mtry_not_ender\u001b[0m\u001b[0;34m(\u001b[0m\u001b[0minstring\u001b[0m\u001b[0;34m,\u001b[0m \u001b[0mloc\u001b[0m\u001b[0;34m)\u001b[0m\u001b[0;34m\u001b[0m\u001b[0;34m\u001b[0m\u001b[0m\n\u001b[0;32m-> 3848\u001b[0;31m         \u001b[0mloc\u001b[0m\u001b[0;34m,\u001b[0m \u001b[0mtokens\u001b[0m \u001b[0;34m=\u001b[0m \u001b[0mself_expr_parse\u001b[0m\u001b[0;34m(\u001b[0m \u001b[0minstring\u001b[0m\u001b[0;34m,\u001b[0m \u001b[0mloc\u001b[0m\u001b[0;34m,\u001b[0m \u001b[0mdoActions\u001b[0m\u001b[0;34m,\u001b[0m \u001b[0mcallPreParse\u001b[0m\u001b[0;34m=\u001b[0m\u001b[0;32mFalse\u001b[0m \u001b[0;34m)\u001b[0m\u001b[0;34m\u001b[0m\u001b[0;34m\u001b[0m\u001b[0m\n\u001b[0m\u001b[1;32m   3849\u001b[0m         \u001b[0;32mtry\u001b[0m\u001b[0;34m:\u001b[0m\u001b[0;34m\u001b[0m\u001b[0;34m\u001b[0m\u001b[0m\n\u001b[1;32m   3850\u001b[0m             \u001b[0mhasIgnoreExprs\u001b[0m \u001b[0;34m=\u001b[0m \u001b[0;34m(\u001b[0m\u001b[0;32mnot\u001b[0m \u001b[0;32mnot\u001b[0m \u001b[0mself\u001b[0m\u001b[0;34m.\u001b[0m\u001b[0mignoreExprs\u001b[0m\u001b[0;34m)\u001b[0m\u001b[0;34m\u001b[0m\u001b[0;34m\u001b[0m\u001b[0m\n",
      "\u001b[0;32m~/opt/py37/lib/python3.7/site-packages/pyparsing.py\u001b[0m in \u001b[0;36m_parseNoCache\u001b[0;34m(self, instring, loc, doActions, callPreParse)\u001b[0m\n\u001b[1;32m   1377\u001b[0m             \u001b[0;32mif\u001b[0m \u001b[0mself\u001b[0m\u001b[0;34m.\u001b[0m\u001b[0mmayIndexError\u001b[0m \u001b[0;32mor\u001b[0m \u001b[0mloc\u001b[0m \u001b[0;34m>=\u001b[0m \u001b[0mlen\u001b[0m\u001b[0;34m(\u001b[0m\u001b[0minstring\u001b[0m\u001b[0;34m)\u001b[0m\u001b[0;34m:\u001b[0m\u001b[0;34m\u001b[0m\u001b[0;34m\u001b[0m\u001b[0m\n\u001b[1;32m   1378\u001b[0m                 \u001b[0;32mtry\u001b[0m\u001b[0;34m:\u001b[0m\u001b[0;34m\u001b[0m\u001b[0;34m\u001b[0m\u001b[0m\n\u001b[0;32m-> 1379\u001b[0;31m                     \u001b[0mloc\u001b[0m\u001b[0;34m,\u001b[0m\u001b[0mtokens\u001b[0m \u001b[0;34m=\u001b[0m \u001b[0mself\u001b[0m\u001b[0;34m.\u001b[0m\u001b[0mparseImpl\u001b[0m\u001b[0;34m(\u001b[0m \u001b[0minstring\u001b[0m\u001b[0;34m,\u001b[0m \u001b[0mpreloc\u001b[0m\u001b[0;34m,\u001b[0m \u001b[0mdoActions\u001b[0m \u001b[0;34m)\u001b[0m\u001b[0;34m\u001b[0m\u001b[0;34m\u001b[0m\u001b[0m\n\u001b[0m\u001b[1;32m   1380\u001b[0m                 \u001b[0;32mexcept\u001b[0m \u001b[0mIndexError\u001b[0m\u001b[0;34m:\u001b[0m\u001b[0;34m\u001b[0m\u001b[0;34m\u001b[0m\u001b[0m\n\u001b[1;32m   1381\u001b[0m                     \u001b[0;32mraise\u001b[0m \u001b[0mParseException\u001b[0m\u001b[0;34m(\u001b[0m \u001b[0minstring\u001b[0m\u001b[0;34m,\u001b[0m \u001b[0mlen\u001b[0m\u001b[0;34m(\u001b[0m\u001b[0minstring\u001b[0m\u001b[0;34m)\u001b[0m\u001b[0;34m,\u001b[0m \u001b[0mself\u001b[0m\u001b[0;34m.\u001b[0m\u001b[0merrmsg\u001b[0m\u001b[0;34m,\u001b[0m \u001b[0mself\u001b[0m \u001b[0;34m)\u001b[0m\u001b[0;34m\u001b[0m\u001b[0;34m\u001b[0m\u001b[0m\n",
      "\u001b[0;32m~/opt/py37/lib/python3.7/site-packages/pyparsing.py\u001b[0m in \u001b[0;36mparseImpl\u001b[0;34m(self, instring, loc, doActions)\u001b[0m\n\u001b[1;32m   3394\u001b[0m             \u001b[0;32melse\u001b[0m\u001b[0;34m:\u001b[0m\u001b[0;34m\u001b[0m\u001b[0;34m\u001b[0m\u001b[0m\n\u001b[1;32m   3395\u001b[0m                 \u001b[0mloc\u001b[0m\u001b[0;34m,\u001b[0m \u001b[0mexprtokens\u001b[0m \u001b[0;34m=\u001b[0m \u001b[0me\u001b[0m\u001b[0;34m.\u001b[0m\u001b[0m_parse\u001b[0m\u001b[0;34m(\u001b[0m \u001b[0minstring\u001b[0m\u001b[0;34m,\u001b[0m \u001b[0mloc\u001b[0m\u001b[0;34m,\u001b[0m \u001b[0mdoActions\u001b[0m \u001b[0;34m)\u001b[0m\u001b[0;34m\u001b[0m\u001b[0;34m\u001b[0m\u001b[0m\n\u001b[0;32m-> 3396\u001b[0;31m             \u001b[0;32mif\u001b[0m \u001b[0mexprtokens\u001b[0m \u001b[0;32mor\u001b[0m \u001b[0mexprtokens\u001b[0m\u001b[0;34m.\u001b[0m\u001b[0mhaskeys\u001b[0m\u001b[0;34m(\u001b[0m\u001b[0;34m)\u001b[0m\u001b[0;34m:\u001b[0m\u001b[0;34m\u001b[0m\u001b[0;34m\u001b[0m\u001b[0m\n\u001b[0m\u001b[1;32m   3397\u001b[0m                 \u001b[0mresultlist\u001b[0m \u001b[0;34m+=\u001b[0m \u001b[0mexprtokens\u001b[0m\u001b[0;34m\u001b[0m\u001b[0;34m\u001b[0m\u001b[0m\n\u001b[1;32m   3398\u001b[0m         \u001b[0;32mreturn\u001b[0m \u001b[0mloc\u001b[0m\u001b[0;34m,\u001b[0m \u001b[0mresultlist\u001b[0m\u001b[0;34m\u001b[0m\u001b[0;34m\u001b[0m\u001b[0m\n",
      "\u001b[0;32m~/opt/py37/lib/python3.7/site-packages/pyparsing.py\u001b[0m in \u001b[0;36m__bool__\u001b[0;34m(self)\u001b[0m\n\u001b[1;32m    433\u001b[0m \u001b[0;34m\u001b[0m\u001b[0m\n\u001b[1;32m    434\u001b[0m     \u001b[0;32mdef\u001b[0m \u001b[0m__len__\u001b[0m\u001b[0;34m(\u001b[0m \u001b[0mself\u001b[0m \u001b[0;34m)\u001b[0m\u001b[0;34m:\u001b[0m \u001b[0;32mreturn\u001b[0m \u001b[0mlen\u001b[0m\u001b[0;34m(\u001b[0m \u001b[0mself\u001b[0m\u001b[0;34m.\u001b[0m\u001b[0m__toklist\u001b[0m \u001b[0;34m)\u001b[0m\u001b[0;34m\u001b[0m\u001b[0;34m\u001b[0m\u001b[0m\n\u001b[0;32m--> 435\u001b[0;31m     \u001b[0;32mdef\u001b[0m \u001b[0m__bool__\u001b[0m\u001b[0;34m(\u001b[0m\u001b[0mself\u001b[0m\u001b[0;34m)\u001b[0m\u001b[0;34m:\u001b[0m \u001b[0;32mreturn\u001b[0m \u001b[0;34m(\u001b[0m \u001b[0;32mnot\u001b[0m \u001b[0;32mnot\u001b[0m \u001b[0mself\u001b[0m\u001b[0;34m.\u001b[0m\u001b[0m__toklist\u001b[0m \u001b[0;34m)\u001b[0m\u001b[0;34m\u001b[0m\u001b[0;34m\u001b[0m\u001b[0m\n\u001b[0m\u001b[1;32m    436\u001b[0m     \u001b[0m__nonzero__\u001b[0m \u001b[0;34m=\u001b[0m \u001b[0m__bool__\u001b[0m\u001b[0;34m\u001b[0m\u001b[0;34m\u001b[0m\u001b[0m\n\u001b[1;32m    437\u001b[0m     \u001b[0;32mdef\u001b[0m \u001b[0m__iter__\u001b[0m\u001b[0;34m(\u001b[0m \u001b[0mself\u001b[0m \u001b[0;34m)\u001b[0m\u001b[0;34m:\u001b[0m \u001b[0;32mreturn\u001b[0m \u001b[0miter\u001b[0m\u001b[0;34m(\u001b[0m \u001b[0mself\u001b[0m\u001b[0;34m.\u001b[0m\u001b[0m__toklist\u001b[0m \u001b[0;34m)\u001b[0m\u001b[0;34m\u001b[0m\u001b[0;34m\u001b[0m\u001b[0m\n",
      "\u001b[0;31mKeyboardInterrupt\u001b[0m: "
     ]
    }
   ],
   "source": [
    "SVG(sim.draw_svg())"
   ]
  },
  {
   "cell_type": "code",
   "execution_count": null,
   "metadata": {},
   "outputs": [],
   "source": [
    "print(sim.draw_text())"
   ]
  },
  {
   "cell_type": "markdown",
   "metadata": {},
   "source": [
    "## New method\n",
    "The new method decodes ARGs using some ideas from changepoint detection. The `fpop.decode` method does all the work:"
   ]
  },
  {
   "cell_type": "code",
   "execution_count": 12,
   "metadata": {},
   "outputs": [
    {
     "data": {
      "text/plain": [
       "\u001b[0;31mSignature:\u001b[0m \u001b[0mfpop\u001b[0m\u001b[0;34m.\u001b[0m\u001b[0mdecode\u001b[0m\u001b[0;34m(\u001b[0m\u001b[0mL\u001b[0m\u001b[0;34m:\u001b[0m \u001b[0mint\u001b[0m\u001b[0;34m,\u001b[0m \u001b[0mpanel\u001b[0m\u001b[0;34m:\u001b[0m \u001b[0mnumpy\u001b[0m\u001b[0;34m.\u001b[0m\u001b[0mndarray\u001b[0m\u001b[0;34m,\u001b[0m \u001b[0mpositions\u001b[0m\u001b[0;34m:\u001b[0m \u001b[0mnumpy\u001b[0m\u001b[0;34m.\u001b[0m\u001b[0mndarray\u001b[0m\u001b[0;34m,\u001b[0m \u001b[0mtheta\u001b[0m\u001b[0;34m:\u001b[0m \u001b[0mUnion\u001b[0m\u001b[0;34m[\u001b[0m\u001b[0mfloat\u001b[0m\u001b[0;34m,\u001b[0m \u001b[0mSequence\u001b[0m\u001b[0;34m[\u001b[0m\u001b[0mfloat\u001b[0m\u001b[0;34m]\u001b[0m\u001b[0;34m]\u001b[0m\u001b[0;34m,\u001b[0m \u001b[0mrho\u001b[0m\u001b[0;34m:\u001b[0m \u001b[0mfloat\u001b[0m\u001b[0;34m,\u001b[0m \u001b[0mw\u001b[0m\u001b[0;34m:\u001b[0m \u001b[0mint\u001b[0m \u001b[0;34m=\u001b[0m \u001b[0;36m100\u001b[0m\u001b[0;34m)\u001b[0m \u001b[0;34m->\u001b[0m \u001b[0mtskit\u001b[0m\u001b[0;34m.\u001b[0m\u001b[0mtrees\u001b[0m\u001b[0;34m.\u001b[0m\u001b[0mTreeSequence\u001b[0m\u001b[0;34m\u001b[0m\u001b[0;34m\u001b[0m\u001b[0m\n",
       "\u001b[0;31mDocstring:\u001b[0m\n",
       "Estimate an ARG by iteratively threading haplotypes using optimal\n",
       "partitioning algorithm.\n",
       "\n",
       "Args:\n",
       "    L: overall length of sequence data.\n",
       "    panel: Binary array of shape [n, P] encoding the allelic state of each of\n",
       "        n haplotypes at P marker positions.\n",
       "    positions: Integer array of shape [P] giving the zero-based position of\n",
       "        each marker. It must be true that max(positions) < L.\n",
       "    w: Aggregate the data into buckets of size :w: base pairs, and multiply\n",
       "        :rho: and :theta: by :w:. Setting :w:=1 is exact but slow. :w: must\n",
       "        evenly divide :L:.\n",
       "    theta: Array of dimension [L] (or something broadcastable to\n",
       "        that) giving the scaled mutation rate at each position.\n",
       "    rho: The scaled recombination rate between each position.\n",
       "\n",
       "Returns:\n",
       "    A tree sequence representing the decoded ARG.\n",
       "\n",
       "Note:\n",
       "    The algorithm is not invariant to the ordering of the haplotypes in\n",
       "    :panel:. Permuting the haplmultiplyingotypes will produce different output.\n",
       "\u001b[0;31mFile:\u001b[0m      ~/Dropbox/Michigan/Research/exact_smc/fpop/fpop/decode.py\n",
       "\u001b[0;31mType:\u001b[0m      function\n"
      ]
     },
     "metadata": {},
     "output_type": "display_data"
    }
   ],
   "source": [
    "?fpop.decode"
   ]
  },
  {
   "cell_type": "code",
   "execution_count": 19,
   "metadata": {},
   "outputs": [
    {
     "name": "stderr",
     "output_type": "stream",
     "text": [
      "DEBUG:fpop.decode:iteration i=1 bt=[{'hap': 0, 'pos': 0, 'm': {'f': 147.98495785924567, 'x': -0.0020020026707190616}}, {'hap': 0, 'pos': 2268, 'm': {'f': 1415.868419314651, 'x': -1.376862471498372}}, {'hap': 0, 'pos': 9014, 'm': {'f': 1475.9167579161328, 'x': 0.16940516486070994}}]\n",
      "DEBUG:fpop.decode:threading lineage i=1 spans=[2268 6746  986] times=[0.501002  1.9812249 0.4220834] haps=(0, 0, 0)\n",
      "DEBUG:fpop.decode:iteration i=2 bt=[{'hap': 0, 'pos': 0, 'm': {'f': 54.522852523329675, 'x': 1.0090066403738553}}, {'hap': 0, 'pos': 1813, 'm': {'f': 228.92864568729, 'x': -1.8897558623707398}}, {'hap': 0, 'pos': 2354, 'm': {'f': 362.9751200581718, 'x': 0.4146951075777251}}, {'hap': 1, 'pos': 5200, 'm': {'f': 385.2558673265335, 'x': -0.43734284700618464}}, {'hap': 0, 'pos': 5253, 'm': {'f': 416.8742869661129, 'x': 0.3966261594409681}}, {'hap': 1, 'pos': 5747, 'm': {'f': 735.5738097326812, 'x': -0.5019937718981675}}, {'hap': 1, 'pos': 8977, 'm': {'f': 775.5834541825462, 'x': 0.8625523454206553}}]\n",
      "DEBUG:fpop.decode:threading lineage i=2 spans=[1813  541 2846   53  494 3230 1023] times=[0.18229048 3.30887642 0.33027082 0.77429346 0.33629271 0.82600586\n",
      " 0.2110417 ] haps=(0, 0, 0, 1, 0, 1, 1)\n",
      "DEBUG:fpop.decode:iteration i=3 bt=[{'hap': 1, 'pos': 0, 'm': {'f': 20.02185684867533, 'x': 0.6911451778892262}}, {'hap': 0, 'pos': 243, 'm': {'f': 404.118547975599, 'x': -1.537017230850429}}, {'hap': 2, 'pos': 1970, 'm': {'f': 434.66708445923024, 'x': 0.6911451778892262}}, {'hap': 0, 'pos': 2091, 'm': {'f': 826.1136693990476, 'x': -0.9867195828659872}}, {'hap': 1, 'pos': 4756, 'm': {'f': 936.6309558660727, 'x': -0.6837152909384266}}, {'hap': 2, 'pos': 5206, 'm': {'f': 944.7315329364826, 'x': 1.2914340800959325}}, {'hap': 0, 'pos': 5264, 'm': {'f': 1035.7115739556389, 'x': -1.2871732702520782}}, {'hap': 1, 'pos': 5675, 'm': {'f': 1050.0467574600461, 'x': 1.0897733400009133}}, {'hap': 0, 'pos': 5873, 'm': {'f': 1427.6303006323503, 'x': -0.6837152909384266}}, {'hap': 2, 'pos': 9018, 'm': {'f': 1456.3905498533506, 'x': 1.5556995259806006}}]\n",
      "DEBUG:fpop.decode:threading lineage i=3 spans=[ 243 1727  121 2665  450   58  411  198 3145  982] times=[0.250501   2.3253488  0.250501   1.34121028 0.99061245 0.13743815\n",
      " 1.81126607 0.16814635 0.99061245 0.10552085] haps=(1, 0, 2, 0, 1, 2, 0, 1, 0, 2)\n",
      "DEBUG:fpop.decode:iteration i=4 bt=[{'hap': 3, 'pos': 0, 'm': {'f': 8.137254623953083, 'x': 1.7021538209338007}}, {'hap': 1, 'pos': 92, 'm': {'f': 50.39555938989618, 'x': -1.2694006096483925}}, {'hap': 0, 'pos': 231, 'm': {'f': 58.386434758505864, 'x': 1.7021538209338007}}, {'hap': 2, 'pos': 250, 'm': {'f': 456.08130721003084, 'x': -1.8722397726326703}}, {'hap': 0, 'pos': 1613, 'm': {'f': 553.959873444434, 'x': -0.8438700502904839}}, {'hap': 3, 'pos': 2053, 'm': {'f': 568.1519329525574, 'x': 1.3842923584491715}}, {'hap': 1, 'pos': 2160, 'm': {'f': 611.1420607358758, 'x': -0.6628604879550672}}, {'hap': 0, 'pos': 2353, 'm': {'f': 1067.4218279628387, 'x': -2.031081577560091}}, {'hap': 3, 'pos': 3741, 'm': {'f': 1088.1279097350568, 'x': 1.1078422881376704}}, {'hap': 0, 'pos': 4107, 'm': {'f': 1220.9100664767861, 'x': 0.10126081902624208}}, {'hap': 3, 'pos': 6148, 'm': {'f': 1344.207395773867, 'x': 0.1911534086617778}}, {'hap': 1, 'pos': 7036, 'm': {'f': 1621.0147911141123, 'x': -1.634378717586427}}, {'hap': 1, 'pos': 8151, 'm': {'f': 1647.1153411719654, 'x': 0.6908946455066569}}, {'hap': 2, 'pos': 8513, 'm': {'f': 1674.986439470269, 'x': 1.5556995259806006}}, {'hap': 0, 'pos': 9145, 'm': {'f': 1878.1401459192525, 'x': -1.5495338382650394}}]\n",
      "DEBUG:fpop.decode:threading lineage i=4 spans=[  92  139   19 1363  440  107  193 1388  366 2041  888 1115  362  632\n",
      "  855] times=[0.09114524 1.77935943 0.09114524 3.2514225  1.1626744  0.1252505\n",
      " 0.97016735 3.81116302 0.16513541 0.45184865 0.41300293 2.56313607\n",
      " 0.25056377 0.10552085 2.35463719] haps=(3, 1, 0, 2, 0, 3, 1, 0, 3, 0, 3, 1, 1, 2, 0)\n",
      "DEBUG:fpop.decode:iteration i=5 bt=[{'hap': 0, 'pos': 0, 'm': {'f': 70.26222008424764, 'x': -1.7086084751138517}}, {'hap': 1, 'pos': 189, 'm': {'f': 84.33079345492544, 'x': 0.6911451778892262}}, {'hap': 4, 'pos': 250, 'm': {'f': 92.31690926711678, 'x': 1.7021538209338007}}, {'hap': 3, 'pos': 287, 'm': {'f': 118.39033109269671, 'x': 0.6911451778892262}}, {'hap': 4, 'pos': 611, 'm': {'f': 171.3819281420576, 'x': 1.7021538209338007}}, {'hap': 3, 'pos': 1074, 'm': {'f': 222.416815670392, 'x': -0.2213396238146773}}, {'hap': 1, 'pos': 1457, 'm': {'f': 252.91030035483922, 'x': 0.6911451778892262}}, {'hap': 3, 'pos': 1622, 'm': {'f': 291.12749458329, 'x': -0.6392002672782601}}, {'hap': 2, 'pos': 1776, 'm': {'f': 338.72076619053496, 'x': -0.7779791160766373}}, {'hap': 3, 'pos': 1970, 'm': {'f': 353.16613505315587, 'x': 1.3842923584491715}}, {'hap': 3, 'pos': 2159, 'm': {'f': 434.74400822382154, 'x': -0.28866032856609536}}, {'hap': 4, 'pos': 2908, 'm': {'f': 476.3618782997688, 'x': 1.8009894686976158}}, {'hap': 3, 'pos': 3823, 'm': {'f': 563.5602596004669, 'x': 1.1078422881376704}}, {'hap': 2, 'pos': 5148, 'm': {'f': 571.7314554875278, 'x': 1.8728785205128495}}, {'hap': 4, 'pos': 5285, 'm': {'f': 609.3300050131527, 'x': 1.0897733400009133}}, {'hap': 3, 'pos': 5570, 'm': {'f': 624.1320616132674, 'x': 1.7829205205608587}}, {'hap': 2, 'pos': 5836, 'm': {'f': 645.4830923623247, 'x': 1.1503610348772808}}, {'hap': 1, 'pos': 6334, 'm': {'f': 814.0388762752385, 'x': 0.009431889621518693}}, {'hap': 0, 'pos': 8601, 'm': {'f': 884.8237591480425, 'x': -0.6837152909384266}}, {'hap': 4, 'pos': 8986, 'm': {'f': 921.4915746170096, 'x': 2.248846706540546}}]\n",
      "DEBUG:fpop.decode:threading lineage i=5 spans=[ 189   61   37  324  463  383  165  154  194  189  749  915 1325  137\n",
      "  285  266  498 2267  385 1014] times=[2.76063657 0.250501   0.09114524 0.250501   0.09114524 0.62387356\n",
      " 0.250501   0.9474824  1.08853411 0.1252505  0.66731916 0.08256771\n",
      " 0.16513541 0.07684033 0.16814635 0.08407318 0.15826124 0.49530623\n",
      " 0.99061245 0.05276043] haps=(0, 1, 4, 3, 4, 3, 1, 3, 2, 3, 3, 4, 3, 2, 4, 3, 2, 1, 0, 4)\n",
      "DEBUG:fpop.decode:iteration i=6 bt=[{'hap': 0, 'pos': 0, 'm': {'f': 88.08885651908727, 'x': 2.395301001493746}}]\n",
      "DEBUG:fpop.decode:threading lineage i=6 spans=[10000] times=[0.04557262] haps=(0,)\n",
      "DEBUG:fpop.decode:iteration i=7 bt=[{'hap': 2, 'pos': 0, 'm': {'f': 16.848524777368056, 'x': 2.5408930808279804}}, {'hap': 0, 'pos': 1762, 'm': {'f': 38.526216620597005, 'x': 1.3137236682850384}}, {'hap': 1, 'pos': 2322, 'm': {'f': 67.54118109538287, 'x': 1.3361845766344087}}, {'hap': 1, 'pos': 3160, 'm': {'f': 219.8209882492165, 'x': -0.6837152909384266}}, {'hap': 0, 'pos': 4127, 'm': {'f': 416.3793336814231, 'x': -1.9080289450119343}}, {'hap': 1, 'pos': 4724, 'm': {'f': 457.7116204190086, 'x': 2.550007512781848}}]\n",
      "DEBUG:fpop.decode:threading lineage i=7 spans=[1762  560  838  967  597 5276] times=[0.039398   0.1344086  0.13142331 0.99061245 3.3698956  0.03904054] haps=(2, 0, 1, 1, 0, 1)\n",
      "DEBUG:fpop.decode:iteration i=8 bt=[{'hap': 3, 'pos': 0, 'm': {'f': 22.399743642433457, 'x': 2.395301001493746}}, {'hap': 0, 'pos': 255, 'm': {'f': 72.53917337739489, 'x': -0.2633870095151692}}, {'hap': 1, 'pos': 611, 'm': {'f': 119.25981381753218, 'x': -0.023012774309066036}}, {'hap': 3, 'pos': 1049, 'm': {'f': 127.52426700133063, 'x': 2.395301001493746}}, {'hap': 5, 'pos': 1170, 'm': {'f': 184.54339529448586, 'x': 1.3842923584491715}}, {'hap': 3, 'pos': 1497, 'm': {'f': 215.15451658712942, 'x': 0.07250669078675291}}, {'hap': 0, 'pos': 1713, 'm': {'f': 257.2499459970691, 'x': 0.16781203910135853}}, {'hap': 1, 'pos': 2102, 'm': {'f': 272.1396011993277, 'x': 1.1662709371419286}}, {'hap': 7, 'pos': 2322, 'm': {'f': 303.9960798187622, 'x': 3.0884481820536913}}, {'hap': 1, 'pos': 3308, 'm': {'f': 346.8066654587957, 'x': 0.3461194299992057}}, {'hap': 7, 'pos': 3753, 'm': {'f': 378.3147413985601, 'x': 3.0884481820536913}}, {'hap': 3, 'pos': 4044, 'm': {'f': 432.7679535836089, 'x': 1.8009894686976158}}, {'hap': 5, 'pos': 4950, 'm': {'f': 484.7708461029772, 'x': 2.5660257010727947}}, {'hap': 0, 'pos': 5835, 'm': {'f': 499.0137926916557, 'x': 0.8897413966406205}}, {'hap': 3, 'pos': 5914, 'm': {'f': 578.78234292362, 'x': 0.1911534086617778}}, {'hap': 4, 'pos': 6762, 'm': {'f': 679.7255849760477, 'x': 2.248846706540546}}]\n",
      "DEBUG:fpop.decode:threading lineage i=8 spans=[ 255  356  438  121  327  216  389  220  986  445  291  906  885   79\n",
      "  848 3238] times=[0.04557262 0.65066512 0.51163981 0.04557262 0.1252505  0.46502976\n",
      " 0.42275637 0.15576324 0.02278631 0.353714   0.02278631 0.08256771\n",
      " 0.03842016 0.20538098 0.41300293 0.05276043] haps=(3, 0, 1, 3, 5, 3, 0, 1, 7, 1, 7, 3, 5, 0, 3, 4)\n",
      "DEBUG:fpop.decode:iteration i=9 bt=[{'hap': 1, 'pos': 0, 'm': {'f': 9.87164566750197, 'x': 4.161114965856053}}, {'hap': 2, 'pos': 5013, 'm': {'f': 107.38350155395656, 'x': 1.5556995259806006}}, {'hap': 5, 'pos': 8986, 'm': {'f': 131.31208425737776, 'x': 2.9419938871004914}}, {'hap': 2, 'pos': 9807, 'm': {'f': 158.45971703900142, 'x': 1.5556995259806006}}]\n",
      "DEBUG:fpop.decode:threading lineage i=9 spans=[5013 3973  821  193] times=[0.00779508 0.10552085 0.02638021 0.10552085] haps=(1, 2, 5, 2)\n",
      "DEBUG:fpop.decode:iteration i=10 bt=[{'hap': 8, 'pos': 0, 'm': {'f': 39.78126673573824, 'x': 3.0884481820536913}}, {'hap': 0, 'pos': 1353, 'm': {'f': 47.834158789454285, 'x': 2.077439539009117}}, {'hap': 8, 'pos': 1385, 'm': {'f': 90.54559045012027, 'x': 2.077439539009117}}, {'hap': 1, 'pos': 2321, 'm': {'f': 135.45359188634168, 'x': 0.6882064236687465}}, {'hap': 8, 'pos': 3042, 'm': {'f': 228.55386231704676, 'x': 3.7815953626136367}}, {'hap': 1, 'pos': 5147, 'm': {'f': 242.95785475757964, 'x': 1.1078422881376704}}, {'hap': 8, 'pos': 5213, 'm': {'f': 267.1037116844317, 'x': 3.25917288163274}}, {'hap': 3, 'pos': 5612, 'm': {'f': 354.9917652125851, 'x': 1.7829205205608587}}, {'hap': 0, 'pos': 7232, 'm': {'f': 403.3217419818751, 'x': 0.25715842990147464}}, {'hap': 3, 'pos': 7718, 'm': {'f': 455.42911551227513, 'x': 0.8140364978353611}}, {'hap': 0, 'pos': 8814, 'm': {'f': 520.220245514555, 'x': 0.1911534086617778}}, {'hap': 2, 'pos': 9569, 'm': {'f': 541.7858959723578, 'x': 1.5556995259806006}}]\n",
      "DEBUG:fpop.decode:threading lineage i=10 spans=[1353   32  936  721 2105   66  399 1620  486 1096  755  431] times=[0.02278631 0.06262525 0.06262525 0.25123825 0.01139315 0.16513541\n",
      " 0.01921008 0.08407318 0.38662285 0.22153301 0.41300293 0.10552085] haps=(8, 0, 8, 1, 8, 1, 8, 3, 0, 3, 0, 2)\n",
      "DEBUG:fpop.decode:iteration i=11 bt=[{'hap': 8, 'pos': 0, 'm': {'f': 59.28189502501978, 'x': 3.7815953626136367}}, {'hap': 0, 'pos': 1352, 'm': {'f': 67.36170665525384, 'x': 2.077439539009117}}, {'hap': 8, 'pos': 1387, 'm': {'f': 93.00029011249022, 'x': 3.7815953626136367}}, {'hap': 7, 'pos': 2355, 'm': {'f': 126.18684148896689, 'x': 3.2431546933417934}}, {'hap': 1, 'pos': 5396, 'm': {'f': 254.21249778212683, 'x': 1.0897733400009133}}]\n",
      "DEBUG:fpop.decode:threading lineage i=11 spans=[1352   35  968 3041 4604] times=[0.01139315 0.06262525 0.01139315 0.01952027 0.16814635] haps=(8, 0, 8, 7, 1)\n",
      "DEBUG:fpop.decode:iteration i=12 bt=[{'hap': 3, 'pos': 0, 'm': {'f': 88.42128356467533, 'x': 1.7021538209338007}}, {'hap': 2, 'pos': 2273, 'm': {'f': 235.4915707933166, 'x': 1.1078422881376704}}, {'hap': 4, 'pos': 4213, 'm': {'f': 387.19324766770956, 'x': 1.3840418260666023}}, {'hap': 0, 'pos': 8423, 'm': {'f': 430.3029933202175, 'x': 0.702579070181464}}, {'hap': 2, 'pos': 8645, 'm': {'f': 438.4131814032104, 'x': 2.262283796220516}}, {'hap': 5, 'pos': 8700, 'm': {'f': 492.58872738384366, 'x': -1.7429693050586268}}, {'hap': 1, 'pos': 8800, 'm': {'f': 508.85569207324056, 'x': 2.4069451083182467}}]\n",
      "DEBUG:fpop.decode:threading lineage i=12 spans=[2273 1940 4210  222   55  100 1200] times=[0.09114524 0.16513541 0.12528188 0.24765311 0.05205622 2.85714286\n",
      " 0.04504505] haps=(3, 2, 4, 0, 2, 5, 1)\n",
      "DEBUG:fpop.decode:iteration i=13 bt=[{'hap': 4, 'pos': 0, 'm': {'f': 54.29619700812875, 'x': 2.395301001493746}}, {'hap': 3, 'pos': 4115, 'm': {'f': 101.63693022649966, 'x': 1.8009894686976158}}, {'hap': 8, 'pos': 4548, 'm': {'f': 125.98335980735807, 'x': 3.25917288163274}}, {'hap': 1, 'pos': 5330, 'm': {'f': 180.88113455511433, 'x': 1.1003191644597508}}, {'hap': 7, 'pos': 7061, 'm': {'f': 190.02322022535935, 'x': 3.7992797487244148}}, {'hap': 5, 'pos': 9940, 'm': {'f': 198.1424746124748, 'x': 3.2431546933417934}}]\n",
      "DEBUG:fpop.decode:threading lineage i=13 spans=[4115  433  782 1731 2879   60] times=[0.04557262 0.08256771 0.01921008 0.16638243 0.01119345 0.01952027] haps=(4, 3, 8, 1, 7, 5)\n",
      "DEBUG:fpop.decode:iteration i=14 bt=[{'hap': 11, 'pos': 0, 'm': {'f': 18.09572704188188, 'x': 4.474742543173582}}, {'hap': 8, 'pos': 338, 'm': {'f': 34.14939761956016, 'x': 3.0884481820536913}}, {'hap': 11, 'pos': 596, 'm': {'f': 43.33916262270555, 'x': 4.474742543173582}}, {'hap': 7, 'pos': 2322, 'm': {'f': 53.22961098688859, 'x': 4.854262146415999}}]\n",
      "DEBUG:fpop.decode:threading lineage i=14 spans=[ 338  258 1726 7678] times=[0.00569658 0.02278631 0.00569658 0.00389754] haps=(11, 8, 11, 7)\n",
      "DEBUG:fpop.decode:iteration i=15 bt=[{'hap': 0, 'pos': 0, 'm': {'f': 166.12808701313247, 'x': -0.5491550675512089}}, {'hap': 5, 'pos': 1498, 'm': {'f': 193.88910354224697, 'x': 1.3842923584491715}}, {'hap': 2, 'pos': 1969, 'm': {'f': 215.1045931384745, 'x': 1.2130316488142687}}, {'hap': 12, 'pos': 2250, 'm': {'f': 262.42021874491627, 'x': 3.0884481820536913}}, {'hap': 2, 'pos': 3775, 'm': {'f': 300.8146870704238, 'x': 1.1078422881376704}}, {'hap': 4, 'pos': 4106, 'm': {'f': 309.7282227163122, 'x': 3.361069590571333}}, {'hap': 12, 'pos': 5726, 'm': {'f': 354.29941290771717, 'x': 2.476067701120804}}, {'hap': 8, 'pos': 6945, 'm': {'f': 362.7379252881212, 'x': 3.2431546933417934}}, {'hap': 7, 'pos': 7821, 'm': {'f': 378.8880794564135, 'x': 3.2431546933417934}}, {'hap': 8, 'pos': 8271, 'm': {'f': 403.11778085397646, 'x': 2.9419938871004914}}]\n",
      "DEBUG:fpop.decode:threading lineage i=15 spans=[1498  471  281 1525  331 1620 1219  876  450 1729] times=[0.86589458 0.1252505  0.14864731 0.02278631 0.16513541 0.01734906\n",
      " 0.04203659 0.01952027 0.01952027 0.02638021] haps=(0, 5, 2, 12, 2, 4, 12, 8, 7, 8)\n",
      "DEBUG:fpop.decode:iteration i=16 bt=[{'hap': 8, 'pos': 0, 'm': {'f': 35.64884811465586, 'x': 3.7815953626136367}}, {'hap': 15, 'pos': 8151, 'm': {'f': 45.47305675643037, 'x': 5.547409326975944}}]\n",
      "DEBUG:fpop.decode:threading lineage i=16 spans=[8151 1849] times=[0.01139315 0.00194877] haps=(8, 15)\n",
      "DEBUG:fpop.decode:iteration i=17 bt=[{'hap': 3, 'pos': 0, 'm': {'f': 8.201730493421994, 'x': 3.2340402613879258}}, {'hap': 15, 'pos': 30, 'm': {'f': 113.22871100187083, 'x': 4.054216771131278}}, {'hap': 12, 'pos': 5872, 'm': {'f': 143.38088745700574, 'x': 2.0771890066265475}}, {'hap': 8, 'pos': 7206, 'm': {'f': 190.60161470802865, 'x': 2.9419938871004914}}, {'hap': 5, 'pos': 9484, 'm': {'f': 206.7768413715494, 'x': 3.100092288878192}}]\n",
      "DEBUG:fpop.decode:threading lineage i=17 spans=[  30 5842 1334 2278  516] times=[0.019699   0.00867453 0.06264094 0.02638021 0.02252252] haps=(3, 15, 12, 8, 5)\n",
      "DEBUG:fpop.decode:iteration i=18 bt=[{'hap': 5, 'pos': 0, 'm': {'f': 58.71184277488723, 'x': 2.395301001493746}}, {'hap': 8, 'pos': 1497, 'm': {'f': 80.07566540180072, 'x': 1.7021538209338007}}, {'hap': 12, 'pos': 1712, 'm': {'f': 118.01521621110841, 'x': 2.7705867195690623}}, {'hap': 5, 'pos': 2088, 'm': {'f': 136.8328307290133, 'x': 3.9123429542389925}}]\n",
      "DEBUG:fpop.decode:threading lineage i=18 spans=[1497  215  376 7912] times=[0.04557262 0.09114524 0.03131263 0.0099968 ] haps=(5, 8, 12, 5)\n",
      "DEBUG:fpop.decode:iteration i=19 bt=[{'hap': 11, 'pos': 0, 'm': {'f': 17.87860692804845, 'x': 4.474742543173582}}, {'hap': 8, 'pos': 337, 'm': {'f': 26.099939224097284, 'x': 3.2340402613879258}}, {'hap': 14, 'pos': 486, 'm': {'f': 66.23973541354044, 'x': 5.547409326975944}}, {'hap': 11, 'pos': 2755, 'm': {'f': 109.47492571911624, 'x': 3.936301873901739}}, {'hap': 13, 'pos': 5313, 'm': {'f': 136.89646489719448, 'x': 4.49242692928436}}, {'hap': 1, 'pos': 8538, 'm': {'f': 153.4601723193951, 'x': 2.5680982406747215}}]\n",
      "DEBUG:fpop.decode:threading lineage i=19 spans=[ 337  149 2269 2558 3225 1462] times=[0.00569658 0.019699   0.00194877 0.00976013 0.00559672 0.03834062] haps=(11, 8, 14, 11, 13, 1)\n"
     ]
    }
   ],
   "source": [
    "positions = np.array([int(v.position) for v in sim.variants()])\n",
    "panel = np.transpose([v.genotypes for v in sim.variants()])\n",
    "estimated_ts = fpop.decode(L=1000000, panel=panel, positions=positions, theta=1e-4, rho=1e-5, w=100)"
   ]
  },
  {
   "cell_type": "markdown",
   "metadata": {},
   "source": [
    "## Truth vs. estimated"
   ]
  },
  {
   "cell_type": "code",
   "execution_count": null,
   "metadata": {},
   "outputs": [],
   "source": [
    "SVG(sim.draw_svg())"
   ]
  },
  {
   "cell_type": "code",
   "execution_count": null,
   "metadata": {},
   "outputs": [],
   "source": [
    "SVG(estimated_ts.draw_svg())"
   ]
  },
  {
   "cell_type": "code",
   "execution_count": 9,
   "metadata": {},
   "outputs": [
    {
     "name": "stdout",
     "output_type": "stream",
     "text": [
      "4.01┊                     ┊                     ┊                     ┊                     ┊      23             ┊                     ┊    \n",
      "    ┊                     ┊                     ┊                     ┊                     ┊  ┏━━━━┻━━━┓         ┊                     ┊    \n",
      "2.83┊                     ┊                     ┊                     ┊                     ┊  ┃        ┃         ┊      22             ┊    \n",
      "    ┊                     ┊                     ┊                     ┊                     ┊  ┃        ┃         ┊  ┏━━━━┻━━━┓         ┊    \n",
      "2.11┊       21            ┊      21             ┊                     ┊                     ┊  ┃        ┃         ┊  ┃        ┃         ┊    \n",
      "    ┊   ┏━━━━┻━━━━┓       ┊  ┏━━━━┻━━━┓         ┊                     ┊                     ┊  ┃        ┃         ┊  ┃        ┃         ┊    \n",
      "1.47┊   ┃         ┃       ┊  ┃        ┃         ┊                     ┊      20             ┊  ┃        ┃         ┊  ┃        ┃         ┊    \n",
      "    ┊   ┃         ┃       ┊  ┃        ┃         ┊                     ┊  ┏━━━━┻━━━┓         ┊  ┃        ┃         ┊  ┃        ┃         ┊    \n",
      "1.13┊   ┃        19       ┊  ┃       19         ┊        19           ┊  ┃       19         ┊  ┃       19         ┊  ┃       19         ┊    \n",
      "    ┊   ┃     ┏━━━┻━━━┓   ┊  ┃    ┏━━━┻━━━┓     ┊   ┏━━━━━┻━━━━━┓     ┊  ┃    ┏━━━┻━━━┓     ┊  ┃    ┏━━━┻━━━┓     ┊  ┃    ┏━━━┻━━━┓     ┊    \n",
      "1.06┊   ┃     ┃       ┃   ┊  ┃    ┃       ┃     ┊   ┃          18     ┊  ┃    ┃       ┃     ┊  ┃    ┃       ┃     ┊  ┃    ┃       ┃     ┊    \n",
      "    ┊   ┃     ┃       ┃   ┊  ┃    ┃       ┃     ┊   ┃       ┏━━━┻━━┓  ┊  ┃    ┃       ┃     ┊  ┃    ┃       ┃     ┊  ┃    ┃       ┃     ┊    \n",
      "0.35┊   ┃     ┃       ┃   ┊  ┃    ┃      17     ┊  17       ┃      ┃  ┊  ┃   17       ┃     ┊  ┃   17       ┃     ┊  ┃   17       ┃     ┊    \n",
      "    ┊   ┃     ┃       ┃   ┊  ┃    ┃     ┏━┻━┓   ┊ ┏━┻━┓     ┃      ┃  ┊  ┃  ┏━┻━┓     ┃     ┊  ┃  ┏━┻━┓     ┃     ┊  ┃  ┏━┻━┓     ┃     ┊    \n",
      "0.17┊  16     ┃       ┃   ┊ 16    ┃     ┃   ┃   ┊ ┃   ┃     ┃     16  ┊ 16  ┃   ┃     ┃     ┊ 16  ┃   ┃     ┃     ┊ 16  ┃   ┃     ┃     ┊    \n",
      "    ┊ ┏━┻┓    ┃       ┃   ┊ ┏┻┓   ┃     ┃   ┃   ┊ ┃   ┃     ┃     ┏┻┓ ┊ ┏┻┓ ┃   ┃     ┃     ┊ ┏┻┓ ┃   ┃     ┃     ┊ ┏┻┓ ┃   ┃     ┃     ┊    \n",
      "0.16┊ ┃  ┃    ┃      15   ┊ ┃ ┃   ┃     ┃  15   ┊ ┃  15     ┃     ┃ ┃ ┊ ┃ ┃ ┃  15     ┃     ┊ ┃ ┃ ┃  15     ┃     ┊ ┃ ┃ ┃  15     ┃     ┊    \n",
      "    ┊ ┃  ┃    ┃     ┏━┻┓  ┊ ┃ ┃   ┃     ┃ ┏━┻┓  ┊ ┃ ┏━┻┓    ┃     ┃ ┃ ┊ ┃ ┃ ┃ ┏━┻┓    ┃     ┊ ┃ ┃ ┃ ┏━┻┓    ┃     ┊ ┃ ┃ ┃ ┏━┻┓    ┃     ┊    \n",
      "0.13┊ ┃ 14    ┃     ┃  ┃  ┊ ┃ ┃   ┃     ┃ ┃  ┃  ┊ ┃ ┃  ┃    ┃     ┃ ┃ ┊ ┃ ┃ ┃ ┃  ┃    ┃     ┊ ┃ ┃ ┃ ┃  ┃    ┃     ┊ ┃ ┃ ┃ ┃  ┃    ┃     ┊    \n",
      "    ┊ ┃ ┏┻┓   ┃     ┃  ┃  ┊ ┃ ┃   ┃     ┃ ┃  ┃  ┊ ┃ ┃  ┃    ┃     ┃ ┃ ┊ ┃ ┃ ┃ ┃  ┃    ┃     ┊ ┃ ┃ ┃ ┃  ┃    ┃     ┊ ┃ ┃ ┃ ┃  ┃    ┃     ┊    \n",
      "0.08┊ ┃ ┃ ┃   ┃     ┃ 13  ┊ ┃ ┃   ┃     ┃ ┃ 13  ┊ ┃ ┃ 13    ┃     ┃ ┃ ┊ ┃ ┃ ┃ ┃ 13    ┃     ┊ ┃ ┃ ┃ ┃ 13    ┃     ┊ ┃ ┃ ┃ ┃ 13    ┃     ┊    \n",
      "    ┊ ┃ ┃ ┃   ┃     ┃ ┏┻┓ ┊ ┃ ┃   ┃     ┃ ┃ ┏┻┓ ┊ ┃ ┃ ┏┻┓   ┃     ┃ ┃ ┊ ┃ ┃ ┃ ┃ ┏┻┓   ┃     ┊ ┃ ┃ ┃ ┃ ┏┻┓   ┃     ┊ ┃ ┃ ┃ ┃ ┏┻┓   ┃     ┊    \n",
      "0.05┊ ┃ ┃ ┃  12     ┃ ┃ ┃ ┊ ┃ ┃  12     ┃ ┃ ┃ ┃ ┊ ┃ ┃ ┃ ┃  12     ┃ ┃ ┊ ┃ ┃ ┃ ┃ ┃ ┃  12     ┊ ┃ ┃ ┃ ┃ ┃ ┃  12     ┊ ┃ ┃ ┃ ┃ ┃ ┃  12     ┊    \n",
      "    ┊ ┃ ┃ ┃ ┏━┻━┓   ┃ ┃ ┃ ┊ ┃ ┃ ┏━┻━┓   ┃ ┃ ┃ ┃ ┊ ┃ ┃ ┃ ┃ ┏━┻━┓   ┃ ┃ ┊ ┃ ┃ ┃ ┃ ┃ ┃ ┏━┻━┓   ┊ ┃ ┃ ┃ ┃ ┃ ┃ ┏━┻━┓   ┊ ┃ ┃ ┃ ┃ ┃ ┃ ┏━┻━┓   ┊    \n",
      "0.03┊ ┃ ┃ ┃ ┃  11   ┃ ┃ ┃ ┊ ┃ ┃ ┃  11   ┃ ┃ ┃ ┃ ┊ ┃ ┃ ┃ ┃ ┃  11   ┃ ┃ ┊ ┃ ┃ ┃ ┃ ┃ ┃ ┃  11   ┊ ┃ ┃ ┃ ┃ ┃ ┃ ┃  11   ┊ ┃ ┃ ┃ ┃ ┃ ┃ ┃  11   ┊    \n",
      "    ┊ ┃ ┃ ┃ ┃ ┏━┻┓  ┃ ┃ ┃ ┊ ┃ ┃ ┃ ┏━┻┓  ┃ ┃ ┃ ┃ ┊ ┃ ┃ ┃ ┃ ┃ ┏━┻┓  ┃ ┃ ┊ ┃ ┃ ┃ ┃ ┃ ┃ ┃ ┏━┻┓  ┊ ┃ ┃ ┃ ┃ ┃ ┃ ┃ ┏━┻┓  ┊ ┃ ┃ ┃ ┃ ┃ ┃ ┃ ┏━┻┓  ┊    \n",
      "0.03┊ ┃ ┃ ┃ ┃ ┃ 10  ┃ ┃ ┃ ┊ ┃ ┃ ┃ ┃ 10  ┃ ┃ ┃ ┃ ┊ ┃ ┃ ┃ ┃ ┃ ┃ 10  ┃ ┃ ┊ ┃ ┃ ┃ ┃ ┃ ┃ ┃ ┃ 10  ┊ ┃ ┃ ┃ ┃ ┃ ┃ ┃ ┃ 10  ┊ ┃ ┃ ┃ ┃ ┃ ┃ ┃ ┃ 10  ┊    \n",
      "    ┊ ┃ ┃ ┃ ┃ ┃ ┏┻┓ ┃ ┃ ┃ ┊ ┃ ┃ ┃ ┃ ┏┻┓ ┃ ┃ ┃ ┃ ┊ ┃ ┃ ┃ ┃ ┃ ┃ ┏┻┓ ┃ ┃ ┊ ┃ ┃ ┃ ┃ ┃ ┃ ┃ ┃ ┏┻┓ ┊ ┃ ┃ ┃ ┃ ┃ ┃ ┃ ┃ ┏┻┓ ┊ ┃ ┃ ┃ ┃ ┃ ┃ ┃ ┃ ┏┻┓ ┊    \n",
      "0.00┊ 3 2 7 5 8 6 9 1 0 4 ┊ 3 7 5 8 6 9 2 1 0 4 ┊ 2 1 0 4 5 8 6 9 3 7 ┊ 3 7 2 1 0 4 5 8 6 9 ┊ 3 7 2 1 0 4 5 8 6 9 ┊ 3 7 2 1 0 4 5 8 6 9 ┊    \n",
      "  0.00                40648.98              43923.42              144164.09             160755.35             163476.68             200000.00\n",
      "\n"
     ]
    }
   ],
   "source": [
    "print(sim.draw_text())"
   ]
  },
  {
   "cell_type": "code",
   "execution_count": 10,
   "metadata": {},
   "outputs": [
    {
     "name": "stdout",
     "output_type": "stream",
     "text": [
      "1.66┊       49            ┊                     ┊                     ┊                     ┊                     ┊                     ┊                     ┊                     ┊    \n",
      "    ┊   ┏━━━━┻━━━━┓       ┊                     ┊                     ┊                     ┊                     ┊                     ┊                     ┊                     ┊    \n",
      "1.31┊   ┃         ┃       ┊                     ┊      47             ┊      48             ┊        48           ┊          48         ┊        48           ┊           48        ┊    \n",
      "    ┊   ┃         ┃       ┊                     ┊  ┏━━━━┻━━━┓         ┊  ┏━━━━┻━━━┓         ┊   ┏━━━━━┻━━━━━┓     ┊    ┏━━━━━━┻━━━━━━┓  ┊   ┏━━━━━┻━━━━━┓     ┊      ┏━━━━━┻━━━━━┓  ┊    \n",
      "0.83┊   ┃        45       ┊       46            ┊  ┃       43         ┊  ┃       44         ┊   ┃           ┃     ┊    ┃             ┃  ┊   ┃           ┃     ┊      ┃           ┃  ┊    \n",
      "    ┊   ┃     ┏━━━┻━━━┓   ┊   ┏━━━━┻━━━━┓       ┊  ┃    ┏━━━┻━━━━┓    ┊  ┃    ┏━━━┻━━━┓     ┊   ┃           ┃     ┊    ┃             ┃  ┊   ┃           ┃     ┊      ┃           ┃  ┊    \n",
      "0.58┊   ┃     ┃       ┃   ┊   ┃         ┃       ┊  ┃    ┃        ┃    ┊  ┃    ┃       ┃     ┊   ┃          42     ┊    ┃             ┃  ┊   ┃           ┃     ┊      ┃           ┃  ┊    \n",
      "    ┊   ┃     ┃       ┃   ┊   ┃         ┃       ┊  ┃    ┃        ┃    ┊  ┃    ┃       ┃     ┊   ┃       ┏━━━┻━━┓  ┊    ┃             ┃  ┊   ┃           ┃     ┊      ┃           ┃  ┊    \n",
      "0.56┊   ┃     ┃       ┃   ┊   ┃         ┃       ┊  ┃    ┃        ┃    ┊  ┃    ┃       ┃     ┊   ┃       ┃      ┃  ┊    ┃             ┃  ┊   ┃          41     ┊      ┃           ┃  ┊    \n",
      "    ┊   ┃     ┃       ┃   ┊   ┃         ┃       ┊  ┃    ┃        ┃    ┊  ┃    ┃       ┃     ┊   ┃       ┃      ┃  ┊    ┃             ┃  ┊   ┃       ┏━━━┻━━┓  ┊      ┃           ┃  ┊    \n",
      "0.35┊   ┃     ┃       ┃   ┊   ┃         ┃       ┊  ┃    ┃        ┃    ┊  ┃    ┃      40     ┊  40       ┃      ┃  ┊   40             ┃  ┊  40       ┃      ┃  ┊     40           ┃  ┊    \n",
      "    ┊   ┃     ┃       ┃   ┊   ┃         ┃       ┊  ┃    ┃        ┃    ┊  ┃    ┃     ┏━┻━┓   ┊ ┏━┻━┓     ┃      ┃  ┊ ┏━━┻━━┓          ┃  ┊ ┏━┻━┓     ┃      ┃  ┊   ┏━━┻━━┓        ┃  ┊    \n",
      "0.18┊   ┃     ┃       ┃   ┊   ┃         ┃       ┊  ┃    ┃        ┃    ┊  ┃    ┃     ┃   ┃   ┊ ┃   ┃     ┃      ┃  ┊ ┃     ┃          ┃  ┊ ┃   ┃     ┃      ┃  ┊   ┃    39        ┃  ┊    \n",
      "    ┊   ┃     ┃       ┃   ┊   ┃         ┃       ┊  ┃    ┃        ┃    ┊  ┃    ┃     ┃   ┃   ┊ ┃   ┃     ┃      ┃  ┊ ┃     ┃          ┃  ┊ ┃   ┃     ┃      ┃  ┊   ┃   ┏━┻━┓      ┃  ┊    \n",
      "0.16┊   ┃     ┃      38   ┊   ┃        38       ┊  ┃    ┃       38    ┊  ┃    ┃     ┃  38   ┊ ┃  38     ┃      ┃  ┊ ┃    38          ┃  ┊ ┃  38     ┃      ┃  ┊  38   ┃   ┃      ┃  ┊    \n",
      "    ┊   ┃     ┃     ┏━┻┓  ┊   ┃      ┏━━┻━┓     ┊  ┃    ┃      ┏━┻━┓  ┊  ┃    ┃     ┃  ┏┻━┓ ┊ ┃  ┏┻━┓   ┃      ┃  ┊ ┃ ┏━━━┻━━━┓      ┃  ┊ ┃ ┏━┻┓    ┃      ┃  ┊ ┏━┻┓  ┃   ┃      ┃  ┊    \n",
      "0.15┊   ┃     ┃     ┃  ┃  ┊   ┃      ┃    ┃     ┊  ┃    ┃      ┃   ┃  ┊  ┃    ┃     ┃  ┃  ┃ ┊ ┃  ┃  ┃   ┃      ┃  ┊ ┃ ┃      37      ┃  ┊ ┃ ┃  ┃    ┃      ┃  ┊ ┃  ┃  ┃   ┃      ┃  ┊    \n",
      "    ┊   ┃     ┃     ┃  ┃  ┊   ┃      ┃    ┃     ┊  ┃    ┃      ┃   ┃  ┊  ┃    ┃     ┃  ┃  ┃ ┊ ┃  ┃  ┃   ┃      ┃  ┊ ┃ ┃   ┏━━━┻━━┓   ┃  ┊ ┃ ┃  ┃    ┃      ┃  ┊ ┃  ┃  ┃   ┃      ┃  ┊    \n",
      "0.08┊   ┃     ┃     ┃  ┃  ┊   ┃      ┃   36     ┊  ┃    ┃      ┃  36  ┊  ┃    ┃     ┃  ┃  ┃ ┊ ┃  ┃  ┃   ┃      ┃  ┊ ┃ ┃   ┃      ┃   ┃  ┊ ┃ ┃  ┃    ┃      ┃  ┊ ┃  ┃  ┃   ┃      ┃  ┊    \n",
      "    ┊   ┃     ┃     ┃  ┃  ┊   ┃      ┃  ┏━┻━┓   ┊  ┃    ┃      ┃  ┏┻┓ ┊  ┃    ┃     ┃  ┃  ┃ ┊ ┃  ┃  ┃   ┃      ┃  ┊ ┃ ┃   ┃      ┃   ┃  ┊ ┃ ┃  ┃    ┃      ┃  ┊ ┃  ┃  ┃   ┃      ┃  ┊    \n",
      "0.04┊  35     ┃     ┃  ┃  ┊   ┃      ┃  ┃  34   ┊  ┃    ┃      ┃  ┃ ┃ ┊  ┃    ┃     ┃  ┃  ┃ ┊ ┃  ┃  ┃   ┃      ┃  ┊ ┃ ┃   ┃      ┃   ┃  ┊ ┃ ┃  ┃    ┃      ┃  ┊ ┃  ┃  ┃   ┃      ┃  ┊    \n",
      "    ┊ ┏━╋━┓   ┃     ┃  ┃  ┊   ┃      ┃  ┃ ┏━┻┓  ┊  ┃    ┃      ┃  ┃ ┃ ┊  ┃    ┃     ┃  ┃  ┃ ┊ ┃  ┃  ┃   ┃      ┃  ┊ ┃ ┃   ┃      ┃   ┃  ┊ ┃ ┃  ┃    ┃      ┃  ┊ ┃  ┃  ┃   ┃      ┃  ┊    \n",
      "0.02┊ ┃ ┃ ┃   ┃     ┃ 26  ┊   ┃     26  ┃ ┃ 27  ┊ 30    ┃     26  ┃ ┃ ┊ 31    ┃     ┃ 26  ┃ ┊ ┃ 26  ┃   ┃     29  ┊ ┃ ┃   ┃     26  32  ┊ ┃ ┃ 26    ┃     28  ┊ ┃ 26  ┃   ┃     33  ┊    \n",
      "    ┊ ┃ ┃ ┃   ┃     ┃ ┏┻┓ ┊   ┃     ┏┻┓ ┃ ┃ ┏┻┓ ┊ ┏┻┓   ┃     ┏┻┓ ┃ ┃ ┊ ┏┻┓   ┃     ┃ ┏┻┓ ┃ ┊ ┃ ┏┻┓ ┃   ┃     ┏┻┓ ┊ ┃ ┃   ┃     ┏┻┓ ┏┻┓ ┊ ┃ ┃ ┏┻┓   ┃     ┏┻┓ ┊ ┃ ┏┻┓ ┃   ┃     ┏┻┓ ┊    \n",
      "0.01┊ ┃ ┃ ┃  24     ┃ ┃ ┃ ┊  25     ┃ ┃ ┃ ┃ ┃ ┃ ┊ ┃ ┃  22     ┃ ┃ ┃ ┃ ┊ ┃ ┃  23     ┃ ┃ ┃ ┃ ┊ ┃ ┃ ┃ ┃  21     ┃ ┃ ┊ ┃ ┃  18     ┃ ┃ ┃ ┃ ┊ ┃ ┃ ┃ ┃  20     ┃ ┃ ┊ ┃ ┃ ┃ ┃  19     ┃ ┃ ┊    \n",
      "    ┊ ┃ ┃ ┃ ┏━┻━┓   ┃ ┃ ┃ ┊ ┏━┻━┓   ┃ ┃ ┃ ┃ ┃ ┃ ┊ ┃ ┃ ┏━┻━┓   ┃ ┃ ┃ ┃ ┊ ┃ ┃ ┏━┻━┓   ┃ ┃ ┃ ┃ ┊ ┃ ┃ ┃ ┃ ┏━┻━┓   ┃ ┃ ┊ ┃ ┃ ┏━┻━┓   ┃ ┃ ┃ ┃ ┊ ┃ ┃ ┃ ┃ ┏━┻━┓   ┃ ┃ ┊ ┃ ┃ ┃ ┃ ┏━┻━┓   ┃ ┃ ┊    \n",
      "0.00┊ ┃ ┃ ┃ ┃  16   ┃ ┃ ┃ ┊ ┃  17   ┃ ┃ ┃ ┃ ┃ ┃ ┊ ┃ ┃ ┃  14   ┃ ┃ ┃ ┃ ┊ ┃ ┃ ┃  15   ┃ ┃ ┃ ┃ ┊ ┃ ┃ ┃ ┃ ┃  13   ┃ ┃ ┊ ┃ ┃ ┃  10   ┃ ┃ ┃ ┃ ┊ ┃ ┃ ┃ ┃ ┃  12   ┃ ┃ ┊ ┃ ┃ ┃ ┃ ┃  11   ┃ ┃ ┊    \n",
      "    ┊ ┃ ┃ ┃ ┃ ┏━╋━┓ ┃ ┃ ┃ ┊ ┃ ┏━╋━┓ ┃ ┃ ┃ ┃ ┃ ┃ ┊ ┃ ┃ ┃ ┏━╋━┓ ┃ ┃ ┃ ┃ ┊ ┃ ┃ ┃ ┏━╋━┓ ┃ ┃ ┃ ┃ ┊ ┃ ┃ ┃ ┃ ┃ ┏━╋━┓ ┃ ┃ ┊ ┃ ┃ ┃ ┏━╋━┓ ┃ ┃ ┃ ┃ ┊ ┃ ┃ ┃ ┃ ┃ ┏━╋━┓ ┃ ┃ ┊ ┃ ┃ ┃ ┃ ┃ ┏━╋━┓ ┃ ┃ ┊    \n",
      "0.00┊ 2 3 7 5 6 8 9 1 0 4 ┊ 5 6 8 9 0 4 1 2 3 7 ┊ 3 7 5 6 8 9 0 4 1 2 ┊ 3 7 5 6 8 9 2 0 4 1 ┊ 2 0 4 1 5 6 8 9 3 7 ┊ 2 1 5 6 8 9 0 4 3 7 ┊ 2 1 0 4 5 6 8 9 3 7 ┊ 1 0 4 2 5 6 8 9 3 7 ┊    \n",
      "  0.00                 4026.00               5243.00               5978.00               6120.00              10579.00              13886.00              14492.00              19286.00 \n",
      "\n"
     ]
    }
   ],
   "source": [
    "print(estimated_ts.draw_text())"
   ]
  }
 ],
 "metadata": {
  "kernelspec": {
   "display_name": "Python 3",
   "language": "python",
   "name": "python3"
  },
  "language_info": {
   "codemirror_mode": {
    "name": "ipython",
    "version": 3
   },
   "file_extension": ".py",
   "mimetype": "text/x-python",
   "name": "python",
   "nbconvert_exporter": "python",
   "pygments_lexer": "ipython3",
   "version": "3.7.5"
  }
 },
 "nbformat": 4,
 "nbformat_minor": 4
}
